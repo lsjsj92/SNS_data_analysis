{
 "cells": [
  {
   "cell_type": "code",
   "execution_count": 6,
   "metadata": {},
   "outputs": [],
   "source": [
    "from gensim.models import word2vec\n",
    "import glob, os\n",
    "import pandas as pd\n",
    "import numpy as np\n",
    "import matplotlib.pyplot as plt\n",
    "import matplotlib as mlp\n",
    "import seaborn as sns\n",
    "\n",
    "from matplotlib import font_manager\n",
    "font = font_manager.FontProperties(fname=\"C:\\\\Windows\\\\Fonts\\\\H2MJSM.TTF\").get_name()\n",
    "mlp.rc('font', family=font)\n",
    "sns.set(style=\"whitegrid\", font=font)"
   ]
  },
  {
   "cell_type": "code",
   "execution_count": 48,
   "metadata": {},
   "outputs": [
    {
     "name": "stdout",
     "output_type": "stream",
     "text": [
      "단어를 입력해보세요! : 매도\n",
      "[('프로그램', 0.7664526104927063), ('존재', 0.7398402690887451), ('도', 0.7373987436294556), ('아무', 0.7247645258903503), ('고통', 0.7187991142272949), ('폭탄', 0.7115105390548706), ('모습', 0.697767972946167), ('순식간', 0.6961957216262817), ('보다', 0.688916802406311), ('날', 0.6861306428909302)]\n"
     ]
    },
    {
     "name": "stderr",
     "output_type": "stream",
     "text": [
      "C:\\Users\\leesoojin\\Anaconda3\\lib\\site-packages\\ipykernel_launcher.py:4: DeprecationWarning: Call to deprecated `most_similar` (Method will be removed in 4.0.0, use self.wv.most_similar() instead).\n",
      "  after removing the cwd from sys.path.\n",
      "C:\\Users\\leesoojin\\Anaconda3\\lib\\site-packages\\gensim\\matutils.py:737: FutureWarning: Conversion of the second argument of issubdtype from `int` to `np.signedinteger` is deprecated. In future, it will be treated as `np.int32 == np.dtype(int).type`.\n",
      "  if np.issubdtype(vec.dtype, np.int):\n",
      "C:\\Users\\leesoojin\\Anaconda3\\lib\\site-packages\\ipykernel_launcher.py:5: DeprecationWarning: Call to deprecated `most_similar` (Method will be removed in 4.0.0, use self.wv.most_similar() instead).\n",
      "  \"\"\"\n"
     ]
    }
   ],
   "source": [
    "model = word2vec.Word2Vec.load(\"./word2vec/word2vec.model\")\n",
    "word = input(\"단어를 입력해보세요! : \")\n",
    "try:\n",
    "    print(model.most_similar(positive=[word]))\n",
    "    data = model.most_similar(positive=[word])\n",
    "except:\n",
    "    print(\"해당 되는 단어가 없습니다.\")"
   ]
  },
  {
   "cell_type": "code",
   "execution_count": 49,
   "metadata": {},
   "outputs": [
    {
     "name": "stdout",
     "output_type": "stream",
     "text": [
      "[('프로그램', 0.7664526104927063), ('존재', 0.7398402690887451), ('도', 0.7373987436294556), ('아무', 0.7247645258903503), ('고통', 0.7187991142272949), ('폭탄', 0.7115105390548706), ('모습', 0.697767972946167), ('순식간', 0.6961957216262817), ('보다', 0.688916802406311), ('날', 0.6861306428909302)]\n",
      "<class 'list'>\n",
      "존재\n",
      "   word     count\n",
      "0  프로그램  0.766453\n",
      "1    존재  0.739840\n",
      "2     도  0.737399\n",
      "3    아무  0.724765\n",
      "4    고통  0.718799\n",
      "5    폭탄  0.711511\n",
      "6    모습  0.697768\n",
      "7   순식간  0.696196\n",
      "8    보다  0.688917\n",
      "9     날  0.686131\n"
     ]
    }
   ],
   "source": [
    "print(data)\n",
    "print(type(data))\n",
    "print(data[1][0])\n",
    "\n",
    "w = [i[0] for i in data]\n",
    "c = [i[1] for i in data]\n",
    "\n",
    "dic = {\n",
    "    'word':w,\n",
    "    'count':c\n",
    "}\n",
    "\n",
    "df = pd.DataFrame(dic)\n",
    "print(df)"
   ]
  },
  {
   "cell_type": "code",
   "execution_count": 50,
   "metadata": {},
   "outputs": [
    {
     "data": {
      "text/plain": [
       "<matplotlib.axes._subplots.AxesSubplot at 0x1dc7b4f29e8>"
      ]
     },
     "execution_count": 50,
     "metadata": {},
     "output_type": "execute_result"
    },
    {
     "data": {
      "image/png": "[encoded data removed]",
      "text/plain": [
       "<Figure size 864x432 with 1 Axes>"
      ]
     },
     "metadata": {},
     "output_type": "display_data"
    }
   ],
   "source": [
    "plt.figure(figsize=(12,6))\n",
    "plt.title(word+\"와 관련 단어\")\n",
    "sns.barplot(x=\"word\", y='count', data=df)"
   ]
  },
  {
   "cell_type": "code",
   "execution_count": 67,
   "metadata": {},
   "outputs": [
    {
     "name": "stdout",
     "output_type": "stream",
     "text": [
      "                                title        date  \\\n",
      "0    다음주 면 캡이 캐셔 10원 미만 엽전주 다 제낄듯 하다.  2018.08.31   \n",
      "1  아오 어제 시드 코제로 다 옮겼더만 스타도 못사고 롬도 못사고  2018.08.31   \n",
      "\n",
      "                                             content  \n",
      "0   이번주안에 덴트 엠블 제끼고 다음주 메디 빙고 때려 잡으러 간다. 내 예상이 틀릴...  \n",
      "1   스타는 못사서 다행인데 롬 ㅅㅂ 출금제한까지 묶여서 잦같네 그동안 메디 스알 떡상...  \n"
     ]
    }
   ],
   "source": [
    "data = pd.read_csv('coinpan_medi.csv')\n",
    "\n",
    "print(data.head(2))"
   ]
  },
  {
   "cell_type": "code",
   "execution_count": 68,
   "metadata": {},
   "outputs": [
    {
     "name": "stdout",
     "output_type": "stream",
     "text": [
      "['2018.08.31' '2018.08.31' '2018.08.31' '2018.08.31' '2018.08.31']\n"
     ]
    }
   ],
   "source": [
    "date = data.iloc[:,1].values\n",
    "print(date[:5])"
   ]
  },
  {
   "cell_type": "code",
   "execution_count": 69,
   "metadata": {},
   "outputs": [],
   "source": [
    "date_array = []\n",
    "for idx, i in enumerate(date):\n",
    "    d = i.split(\".\")[1]\n",
    "    date_array.append(d)"
   ]
  },
  {
   "cell_type": "code",
   "execution_count": 70,
   "metadata": {},
   "outputs": [
    {
     "name": "stdout",
     "output_type": "stream",
     "text": [
      "['08', '08', '08', '08', '08', '08', '08', '08', '08', '08']\n",
      "6160\n"
     ]
    }
   ],
   "source": [
    "print(date_array[:10])\n",
    "print(len(date_array))"
   ]
  },
  {
   "cell_type": "code",
   "execution_count": 71,
   "metadata": {},
   "outputs": [],
   "source": [
    "from collections import Counter\n",
    "count_by_date = Counter(date_array)"
   ]
  },
  {
   "cell_type": "code",
   "execution_count": 72,
   "metadata": {},
   "outputs": [
    {
     "name": "stdout",
     "output_type": "stream",
     "text": [
      "Counter({'08': 4000, '01': 1151, '05': 279, '07': 181, '06': 167, '02': 160, '04': 123, '03': 99})\n",
      "<class 'collections.Counter'>\n"
     ]
    }
   ],
   "source": [
    "print(count_by_date)\n",
    "print(type(count_by_date))"
   ]
  },
  {
   "cell_type": "code",
   "execution_count": 76,
   "metadata": {},
   "outputs": [
    {
     "name": "stdout",
     "output_type": "stream",
     "text": [
      "['08', '07', '06', '05', '04', '03', '02', '01']\n",
      "[4000, 181, 167, 279, 123, 99, 160, 1151]\n",
      "  date  count\n",
      "0   08   4000\n",
      "1   07    181\n",
      "2   06    167\n",
      "3   05    279\n",
      "4   04    123\n",
      "5   03     99\n",
      "6   02    160\n",
      "7   01   1151\n"
     ]
    }
   ],
   "source": [
    "a = list(Counter(count_by_date).items())\n",
    "\n",
    "date, cnt = [], []\n",
    "\n",
    "for i in a:\n",
    "    date.append(i[0])\n",
    "    cnt.append(i[1])\n",
    "    \n",
    "print(date)\n",
    "print(cnt)\n",
    "\n",
    "d = {\n",
    "    'date' : date,\n",
    "    'count' : cnt\n",
    "}\n",
    "\n",
    "data = pd.DataFrame(d)\n",
    "print(data)\n",
    "\n",
    "#count_by_date = dict(count_by_date)\n",
    "#print(count_by_date)\n",
    "\n",
    "#c_date = pd.DataFrame(count_by_date)\n",
    "#print(c_date)"
   ]
  },
  {
   "cell_type": "code",
   "execution_count": 77,
   "metadata": {},
   "outputs": [
    {
     "data": {
      "text/plain": [
       "<matplotlib.axes._subplots.AxesSubplot at 0x1dc7d034828>"
      ]
     },
     "execution_count": 77,
     "metadata": {},
     "output_type": "execute_result"
    },
    {
     "data": {
      "image/png": "[encoded data removed]",
      "text/plain": [
       "<Figure size 864x432 with 1 Axes>"
      ]
     },
     "metadata": {},
     "output_type": "display_data"
    }
   ],
   "source": [
    "plt.figure(figsize=(12,6))\n",
    "plt.title(\"메디 키워드 월별(2018년) 언급 데이터 수\")\n",
    "sns.barplot(x=\"date\", y='count', data=data)"
   ]
  },
  {
   "cell_type": "code",
   "execution_count": null,
   "metadata": {},
   "outputs": [],
   "source": []
  }
 ],
 "metadata": {
  "kernelspec": {
   "display_name": "Python 3",
   "language": "python",
   "name": "python3"
  },
  "language_info": {
   "codemirror_mode": {
    "name": "ipython",
    "version": 3
   },
   "file_extension": ".py",
   "mimetype": "text/x-python",
   "name": "python",
   "nbconvert_exporter": "python",
   "pygments_lexer": "ipython3",
   "version": "3.6.5"
  }
 },
 "nbformat": 4,
 "nbformat_minor": 2
}
